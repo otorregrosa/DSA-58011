{
  "nbformat": 4,
  "nbformat_minor": 0,
  "metadata": {
    "colab": {
      "provenance": [],
      "authorship_tag": "ABX9TyPMS6vU//Q1WdIB52sEO1Py",
      "include_colab_link": true
    },
    "kernelspec": {
      "name": "python3",
      "display_name": "Python 3"
    },
    "language_info": {
      "name": "python"
    }
  },
  "cells": [
    {
      "cell_type": "markdown",
      "metadata": {
        "id": "view-in-github",
        "colab_type": "text"
      },
      "source": [
        "<a href=\"https://colab.research.google.com/github/otorregrosa/DSA-58011/blob/main/Prelim_Exam.ipynb\" target=\"_parent\"><img src=\"https://colab.research.google.com/assets/colab-badge.svg\" alt=\"Open In Colab\"/></a>"
      ]
    },
    {
      "cell_type": "code",
      "execution_count": 20,
      "metadata": {
        "colab": {
          "base_uri": "https://localhost:8080/"
        },
        "id": "oxG4bNbnqv_e",
        "outputId": "79a6a20f-b6a2-426b-b816-e70d9e4c8567"
      },
      "outputs": [
        {
          "output_type": "stream",
          "name": "stdout",
          "text": [
            "[4, 6, 8, 9]\n",
            "Number of composite numbers: 4\n"
          ]
        }
      ],
      "source": [
        "arr = []\n",
        "arr.append(4)\n",
        "arr.append(6)\n",
        "arr.append(8)\n",
        "arr.append(9)\n",
        "len(arr)\n",
        "print(arr)\n",
        "print(\"Number of composite numbers:\", len(arr))"
      ]
    }
  ]
}