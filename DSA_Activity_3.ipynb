{
  "nbformat": 4,
  "nbformat_minor": 0,
  "metadata": {
    "colab": {
      "provenance": [],
      "authorship_tag": "ABX9TyN7dpir5/RlWRT+8BN5xIia",
      "include_colab_link": true
    },
    "kernelspec": {
      "name": "python3",
      "display_name": "Python 3"
    },
    "language_info": {
      "name": "python"
    }
  },
  "cells": [
    {
      "cell_type": "markdown",
      "metadata": {
        "id": "view-in-github",
        "colab_type": "text"
      },
      "source": [
        "<a href=\"https://colab.research.google.com/github/otorregrosa/DSA-58011/blob/main/DSA_Activity_3.ipynb\" target=\"_parent\"><img src=\"https://colab.research.google.com/assets/colab-badge.svg\" alt=\"Open In Colab\"/></a>"
      ]
    },
    {
      "cell_type": "markdown",
      "source": [
        "Instruction: Type the python codes below in your Colab. After running your codes, answer the questions below.\n",
        "**Questions:**\n",
        "1. Upon typing the codes, what is the name of the abstract data type? How is it implemented?\n",
        "2. What is the output of the codes?\n",
        "3. If you want to type additional codes, what will be the statement to pop 3 elements from the top of the stack?\n",
        "4. If you will revise the codes, what will be the statement to determine the length of the stack? (Note: You may add additional methods to count the no. of elements in the stack)"
      ],
      "metadata": {
        "id": "fHUQs62fXzwN"
      }
    },
    {
      "cell_type": "markdown",
      "source": [
        "Answers:\n",
        "1. the abstract data type names are stack, push, and pop\n",
        "stack is used to create a stack\n",
        "push is used to place a new item on top of the stack\n",
        "pop is used to remove an item on top of the stack\n",
        "\n",
        "2. \n",
        "\n",
        "Pushed Element: 1\n",
        "\n",
        "Pushed Element: 2\n",
        "\n",
        "Pushed Element: 3\n",
        "\n",
        "Pushed Element: 4\n",
        "\n",
        "Pushed Element: 5\n",
        "\n",
        "The elements in the stack are:['1', '2', '3', '4', '5']\n",
        "\n",
        "3. \n",
        "\n",
        "stack.pop()\n",
        "\n",
        "stack.pop()\n",
        "\n",
        "stack.pop()\n",
        "\n",
        "4. print(len(stack))"
      ],
      "metadata": {
        "id": "24RB8Nb_YuLX"
      }
    },
    {
      "cell_type": "code",
      "execution_count": 6,
      "metadata": {
        "colab": {
          "base_uri": "https://localhost:8080/"
        },
        "id": "r0zX5kx3Vz5S",
        "outputId": "a8b319f5-3959-4637-ee48-644687b78ddb"
      },
      "outputs": [
        {
          "output_type": "stream",
          "name": "stdout",
          "text": [
            "Pushed Element: 1\n",
            "Pushed Element: 2\n",
            "Pushed Element: 3\n",
            "Pushed Element: 4\n",
            "Pushed Element: 5\n",
            "2\n",
            "The elements in the stack are:['1', '2']\n"
          ]
        }
      ],
      "source": [
        "# Stack implementation in python\n",
        "# Creating a stack\n",
        "def create_stack():\n",
        "    stack = []\n",
        "    return stack\n",
        "\n",
        "# Creating an empty stack\n",
        "def is_empty(stack):\n",
        "\n",
        "    return len(stack) == 0\n",
        "\n",
        "# Adding items into the stack\n",
        "def push(stack, item):\n",
        "    stack.append(item)\n",
        "    print(\"Pushed Element: \" + item)\n",
        "\n",
        "# Removing an element from the stack\n",
        "def pop(stack):\n",
        "    if (is_empty(stack)):\n",
        "        return \"The stack is empty\"\n",
        "    return stack.pop()\n",
        "\n",
        "stack = create_stack()\n",
        "push(stack, str(1))\n",
        "push(stack, str(2))\n",
        "push(stack, str(3))\n",
        "push(stack, str(4))\n",
        "push(stack, str(5))\n",
        "\n",
        "#Removing the top elements in the stack\n",
        "stack.pop()\n",
        "stack.pop()\n",
        "stack.pop()\n",
        "\n",
        "#Getting the length of the stack\n",
        "print(len(stack))\n",
        "print(\"The elements in the stack are:\"+ str(stack))"
      ]
    }
  ]
}