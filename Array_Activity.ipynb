{
  "nbformat": 4,
  "nbformat_minor": 0,
  "metadata": {
    "colab": {
      "provenance": [],
      "authorship_tag": "ABX9TyMQiXHCgVsxgytTVwtyT6KS",
      "include_colab_link": true
    },
    "kernelspec": {
      "name": "python3",
      "display_name": "Python 3"
    },
    "language_info": {
      "name": "python"
    }
  },
  "cells": [
    {
      "cell_type": "markdown",
      "metadata": {
        "id": "view-in-github",
        "colab_type": "text"
      },
      "source": [
        "<a href=\"https://colab.research.google.com/github/otorregrosa/DSA-58011/blob/main/Array_Activity.ipynb\" target=\"_parent\"><img src=\"https://colab.research.google.com/assets/colab-badge.svg\" alt=\"Open In Colab\"/></a>"
      ]
    },
    {
      "cell_type": "code",
      "execution_count": 29,
      "metadata": {
        "colab": {
          "base_uri": "https://localhost:8080/"
        },
        "id": "IEWi7mABPg1q",
        "outputId": "9a6499a1-06b1-4792-9359-463cb9a4bc63"
      },
      "outputs": [
        {
          "output_type": "stream",
          "name": "stdout",
          "text": [
            "['1', '2', '3', '4', '5', '6', '7', '8', '9', '10']\n",
            "The sum of the array is equal to 55\n"
          ]
        }
      ],
      "source": [
        "numbers = [\"1\", \"2\", \"3\", \"4\", \"5\", \"6\", \"7\", \"8\", \"9\", \"10\"]\n",
        "print(numbers)\n",
        "arr = []\n",
        "arr = [1 ,2, 3, 4, 5, 6, 7, 8, 9, 10]\n",
        "ans = sum(arr)\n",
        "print('The sum of the array is equal to', ans)"
      ]
    },
    {
      "cell_type": "code",
      "source": [
        "numbers = [\"1\", \"2\", \"3\", \"4\", \"5\", \"6\", \"7\", \"8\", \"9\", \"10\"]\n",
        "numbers.append(\"11\")\n",
        "print(numbers) "
      ],
      "metadata": {
        "colab": {
          "base_uri": "https://localhost:8080/"
        },
        "id": "ikpLgAd_SqJb",
        "outputId": "5694bd0e-3a5a-4f9a-d1f0-ad14b283dffd"
      },
      "execution_count": 8,
      "outputs": [
        {
          "output_type": "stream",
          "name": "stdout",
          "text": [
            "['1', '2', '3', '4', '5', '6', '7', '8', '9', '10', '11']\n"
          ]
        }
      ]
    },
    {
      "cell_type": "code",
      "source": [
        "numbers = [\"1\", \"2\", \"3\", \"4\", \"5\", \"6\", \"7\", \"8\", \"9\", \"10\"]\n",
        "numbers.insert(1,\"1.5\")\n",
        "print(numbers) "
      ],
      "metadata": {
        "colab": {
          "base_uri": "https://localhost:8080/"
        },
        "id": "g3PAmrMwTQ7X",
        "outputId": "79e570f7-66c8-42bf-ca2c-7ffaa9a776b8"
      },
      "execution_count": 16,
      "outputs": [
        {
          "output_type": "stream",
          "name": "stdout",
          "text": [
            "['1', '1.5', '2', '3', '4', '5', '6', '7', '8', '9', '10']\n"
          ]
        }
      ]
    },
    {
      "cell_type": "code",
      "source": [
        "numbers = [\"1\", \"2\", \"3\", \"4\", \"5\", \"6\", \"7\", \"8\", \"9\", \"10\"]\n",
        "numbers.reverse()\n",
        "print(numbers) "
      ],
      "metadata": {
        "colab": {
          "base_uri": "https://localhost:8080/"
        },
        "id": "88SrYzSUVFrY",
        "outputId": "8880107f-5056-44d5-aa97-753ef2c3b7e0"
      },
      "execution_count": 17,
      "outputs": [
        {
          "output_type": "stream",
          "name": "stdout",
          "text": [
            "['10', '9', '8', '7', '6', '5', '4', '3', '2', '1']\n"
          ]
        }
      ]
    },
    {
      "cell_type": "code",
      "source": [
        "numbers = [\"1\", \"2\", \"3\", \"4\", \"5\", \"6\", \"7\", \"8\", \"9\", \"10\"]\n",
        "numbers.reverse()\n",
        "x = len(numbers)\n",
        "print(numbers) \n",
        "print(x)"
      ],
      "metadata": {
        "colab": {
          "base_uri": "https://localhost:8080/"
        },
        "id": "ahgXlVqQVX3s",
        "outputId": "31af9bf7-5521-425b-fadb-46f36eb74dbb"
      },
      "execution_count": 19,
      "outputs": [
        {
          "output_type": "stream",
          "name": "stdout",
          "text": [
            "['10', '9', '8', '7', '6', '5', '4', '3', '2', '1']\n",
            "10\n"
          ]
        }
      ]
    }
  ]
}