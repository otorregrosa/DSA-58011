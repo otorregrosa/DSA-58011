{
  "nbformat": 4,
  "nbformat_minor": 0,
  "metadata": {
    "colab": {
      "name": "Array Demo",
      "provenance": [],
      "authorship_tag": "ABX9TyPCeXlOjQNqsovKHYTjAhUY",
      "include_colab_link": true
    },
    "kernelspec": {
      "name": "python3",
      "display_name": "Python 3"
    },
    "language_info": {
      "name": "python"
    }
  },
  "cells": [
    {
      "cell_type": "markdown",
      "metadata": {
        "id": "view-in-github",
        "colab_type": "text"
      },
      "source": [
        "<a href=\"https://colab.research.google.com/github/otorregrosa/DSA-58011/blob/main/Array.ipynb\" target=\"_parent\"><img src=\"https://colab.research.google.com/assets/colab-badge.svg\" alt=\"Open In Colab\"/></a>"
      ]
    },
    {
      "cell_type": "code",
      "execution_count": 2,
      "metadata": {
        "colab": {
          "base_uri": "https://localhost:8080/"
        },
        "id": "lLUXTJZ_-E5C",
        "outputId": "949cbbad-8a54-436d-8b47-8be60cdf02fb"
      },
      "outputs": [
        {
          "output_type": "stream",
          "name": "stdout",
          "text": [
            "cat\n"
          ]
        }
      ],
      "source": [
        "animals = ['cat', 'dog', 'fish']\n",
        "x = animals[0]\n",
        "print(x)"
      ]
    },
    {
      "cell_type": "code",
      "source": [
        "animals = ['cat', 'dog', 'fish']\n",
        "animals[0] = 'monkey'\n",
        "x = animals[0]\n",
        "print(x)"
      ],
      "metadata": {
        "colab": {
          "base_uri": "https://localhost:8080/"
        },
        "id": "aZMpphWsMHtE",
        "outputId": "01c68b9a-9463-4c0b-99f3-e91f944d4f4a"
      },
      "execution_count": 3,
      "outputs": [
        {
          "output_type": "stream",
          "name": "stdout",
          "text": [
            "monkey\n"
          ]
        }
      ]
    },
    {
      "cell_type": "code",
      "source": [
        "animals = ['cat', 'dog', 'fish']\n",
        "animals[0] = 'monkey'\n",
        "x = animals[0]\n",
        "x = len(animals)\n",
        "print(x)"
      ],
      "metadata": {
        "colab": {
          "base_uri": "https://localhost:8080/"
        },
        "id": "metB9ayeMOLF",
        "outputId": "9110593b-1c0a-47d8-cc56-c424fd032d58"
      },
      "execution_count": 4,
      "outputs": [
        {
          "output_type": "stream",
          "name": "stdout",
          "text": [
            "3\n"
          ]
        }
      ]
    },
    {
      "cell_type": "code",
      "source": [
        "animals = ['cat', 'dog', 'fish']\n",
        "for x in animals:\n",
        "    print(x)"
      ],
      "metadata": {
        "colab": {
          "base_uri": "https://localhost:8080/"
        },
        "id": "y_MvgrpwNJm-",
        "outputId": "9ed48cf5-f1f5-475d-c475-bf74169286b6"
      },
      "execution_count": 6,
      "outputs": [
        {
          "output_type": "stream",
          "name": "stdout",
          "text": [
            "cat\n",
            "dog\n",
            "fish\n"
          ]
        }
      ]
    },
    {
      "cell_type": "code",
      "source": [
        "animals = ['cat', 'dog', 'fish']\n",
        "animals.append('monkey')\n",
        "print(animals)"
      ],
      "metadata": {
        "colab": {
          "base_uri": "https://localhost:8080/"
        },
        "id": "OMxdR0BHNg93",
        "outputId": "4e725a56-622b-48cf-c5ff-c050f0e98a57"
      },
      "execution_count": 7,
      "outputs": [
        {
          "output_type": "stream",
          "name": "stdout",
          "text": [
            "['cat', 'dog', 'fish', 'monkey']\n"
          ]
        }
      ]
    },
    {
      "cell_type": "code",
      "source": [
        "animals = ['cat', 'dog', 'fish']\n",
        "animals.pop(1)\n",
        "animals.pop(0)\n",
        "print(animals)"
      ],
      "metadata": {
        "colab": {
          "base_uri": "https://localhost:8080/"
        },
        "id": "tTy6HyJ8N4ij",
        "outputId": "a58fa271-177a-446a-b2e6-3ce9db9c0f12"
      },
      "execution_count": 9,
      "outputs": [
        {
          "output_type": "stream",
          "name": "stdout",
          "text": [
            "['fish']\n"
          ]
        }
      ]
    }
  ]
}