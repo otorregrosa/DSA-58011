{
  "nbformat": 4,
  "nbformat_minor": 0,
  "metadata": {
    "colab": {
      "name": "Area of a circle",
      "provenance": [],
      "authorship_tag": "ABX9TyNRLxFsyavC4ZDlY4sQf68f",
      "include_colab_link": true
    },
    "kernelspec": {
      "name": "python3",
      "display_name": "Python 3"
    },
    "language_info": {
      "name": "python"
    }
  },
  "cells": [
    {
      "cell_type": "markdown",
      "metadata": {
        "id": "view-in-github",
        "colab_type": "text"
      },
      "source": [
        "<a href=\"https://colab.research.google.com/github/otorregrosa/DSA-58011/blob/main/Area_of_a_circle.ipynb\" target=\"_parent\"><img src=\"https://colab.research.google.com/assets/colab-badge.svg\" alt=\"Open In Colab\"/></a>"
      ]
    },
    {
      "cell_type": "code",
      "execution_count": 3,
      "metadata": {
        "colab": {
          "base_uri": "https://localhost:8080/"
        },
        "id": "UOWY7mupKTdk",
        "outputId": "cbe84b2e-ebd2-45a9-af1e-9163c8d9d2cc"
      },
      "outputs": [
        {
          "output_type": "stream",
          "name": "stdout",
          "text": [
            "Enter the radius of a circle: 20\n",
            "Area of a circle = 1256.00\n"
          ]
        }
      ],
      "source": [
        "#if the given values is radius\n",
        "\n",
        "r = int(input(\"Enter the radius of a circle: \"))\n",
        "pi = 3.14\n",
        "area = pi * r * r\n",
        "print(\"Area of a circle = %.2f\" %area)"
      ]
    }
  ]
}