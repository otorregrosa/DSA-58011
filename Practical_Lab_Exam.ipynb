{
  "nbformat": 4,
  "nbformat_minor": 0,
  "metadata": {
    "colab": {
      "name": "Practical Lab Exam",
      "provenance": [],
      "authorship_tag": "ABX9TyMFKYs6EC4uI/FAIu1gNjlj",
      "include_colab_link": true
    },
    "kernelspec": {
      "name": "python3",
      "display_name": "Python 3"
    },
    "language_info": {
      "name": "python"
    }
  },
  "cells": [
    {
      "cell_type": "markdown",
      "metadata": {
        "id": "view-in-github",
        "colab_type": "text"
      },
      "source": [
        "<a href=\"https://colab.research.google.com/github/otorregrosa/DSA-58011/blob/main/Practical_Lab_Exam.ipynb\" target=\"_parent\"><img src=\"https://colab.research.google.com/assets/colab-badge.svg\" alt=\"Open In Colab\"/></a>"
      ]
    },
    {
      "cell_type": "code",
      "source": [
        "def solve(test_scores):\n",
        "   return sum([i for i in nums if i % 2 == 1])\n",
        "test_scores = [26,49,98,87,62,75]\n",
        "print(solve(nums))"
      ],
      "metadata": {
        "colab": {
          "base_uri": "https://localhost:8080/"
        },
        "id": "0B3v8pXFePln",
        "outputId": "4410cab9-da1c-4c96-c6b3-b3ed5326bdb1"
      },
      "execution_count": 37,
      "outputs": [
        {
          "output_type": "stream",
          "name": "stdout",
          "text": [
            "211\n"
          ]
        }
      ]
    }
  ]
}