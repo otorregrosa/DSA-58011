{
  "metadata": {
    "language_info": {
      "codemirror_mode": {
        "name": "python",
        "version": 3
      },
      "file_extension": ".py",
      "mimetype": "text/x-python",
      "name": "python",
      "nbconvert_exporter": "python",
      "pygments_lexer": "ipython3",
      "version": "3.8"
    },
    "kernelspec": {
      "name": "python",
      "display_name": "Python (Pyodide)",
      "language": "python"
    }
  },
  "nbformat_minor": 4,
  "nbformat": 4,
  "cells": [
    {
      "cell_type": "code",
      "source": "class Shape:\n    def triangle(self):\n        return \"4 sides are equal\"\n    def rectangle(self):\n        return \"2 sides are equal\"\n    \nclass Polygon(Shape):\n    def triangle(self):\n        return \"has edges and vertices\"\n    \nobject = Polygon()\nobject.triangle()",
      "metadata": {
        "trusted": true
      },
      "execution_count": 1,
      "outputs": [
        {
          "execution_count": 1,
          "output_type": "execute_result",
          "data": {
            "text/plain": "'has edges and vertices'"
          },
          "metadata": {}
        }
      ]
    },
    {
      "cell_type": "code",
      "source": "class Cat:\n    def __init__(self, name):\n        \n        self.name = name\n        \nmissy = Cat('Missy')\nlucky = Cat('Lucky')\n\nprint(missy.name)\nprint(lucky.name)",
      "metadata": {
        "trusted": true
      },
      "execution_count": 2,
      "outputs": [
        {
          "name": "stdout",
          "text": "Missy\nLucky\n",
          "output_type": "stream"
        }
      ]
    },
    {
      "cell_type": "code",
      "source": "class Person:\n    def __init__(self, name, age):\n        self.name = name\n        self.age = age\n        \nperson = Person(\"Ana\",39)\nprint(person.name)\nprint(person.age)",
      "metadata": {
        "trusted": true
      },
      "execution_count": 3,
      "outputs": [
        {
          "name": "stdout",
          "text": "Ana\n39\n",
          "output_type": "stream"
        }
      ]
    },
    {
      "cell_type": "code",
      "source": "class Rectangle:\n    def __init__(self, length, width):\n        self.length = length\n        self.width = width\n    def Area(self):\n        print(self.length * self.width)\nrect = Rectangle(7, 3)\nrect.Area()",
      "metadata": {
        "trusted": true
      },
      "execution_count": 4,
      "outputs": [
        {
          "name": "stdout",
          "text": "21\n",
          "output_type": "stream"
        }
      ]
    },
    {
      "cell_type": "code",
      "source": "class Rectangle:\n    def __init__(self, length, width):\n        self.length = length\n        self.width = width\n    def Area(self):\n        print(self.length * self.width)\n    def Perimeter(self):\n        print(2*(self.length+self.width))\n\nrect = Rectangle(7, 3)\nrect.Area()\nrect.Perimeter()",
      "metadata": {
        "trusted": true
      },
      "execution_count": 5,
      "outputs": [
        {
          "name": "stdout",
          "text": "21\n20\n",
          "output_type": "stream"
        }
      ]
    }
  ]
}