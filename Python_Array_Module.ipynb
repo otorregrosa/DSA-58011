{
  "nbformat": 4,
  "nbformat_minor": 0,
  "metadata": {
    "colab": {
      "provenance": [],
      "authorship_tag": "ABX9TyM3v2n2k3gIiDVObIILTyY4",
      "include_colab_link": true
    },
    "kernelspec": {
      "name": "python3",
      "display_name": "Python 3"
    },
    "language_info": {
      "name": "python"
    }
  },
  "cells": [
    {
      "cell_type": "markdown",
      "metadata": {
        "id": "view-in-github",
        "colab_type": "text"
      },
      "source": [
        "<a href=\"https://colab.research.google.com/github/otorregrosa/DSA-58011/blob/main/Python_Array_Module.ipynb\" target=\"_parent\"><img src=\"https://colab.research.google.com/assets/colab-badge.svg\" alt=\"Open In Colab\"/></a>"
      ]
    },
    {
      "cell_type": "markdown",
      "source": [
        "Example 1"
      ],
      "metadata": {
        "id": "94St3YmIDubF"
      }
    },
    {
      "cell_type": "code",
      "execution_count": 10,
      "metadata": {
        "colab": {
          "base_uri": "https://localhost:8080/"
        },
        "id": "I33VuzPPBRSa",
        "outputId": "a52f99eb-9241-42f8-c08a-3a973dd6eb65"
      },
      "outputs": [
        {
          "output_type": "stream",
          "name": "stdout",
          "text": [
            "i\n",
            "f\n"
          ]
        }
      ],
      "source": [
        "import array as arr\n",
        "arr.typecodes\n",
        "a = arr.array('i', [1,2,3,4,5,6])\n",
        "b = arr.array('f', [1.5,2.5,3.5,4.5,5.5,6.5])\n",
        "print(a.typecode)\n",
        "print(b.typecode)"
      ]
    },
    {
      "cell_type": "markdown",
      "source": [
        "Example 2"
      ],
      "metadata": {
        "id": "p9PNv5CYFc7Q"
      }
    },
    {
      "cell_type": "code",
      "source": [
        "a = arr.array('f', [1,2,3,4,5,6,7,8,9,10])\n",
        "print(a)"
      ],
      "metadata": {
        "colab": {
          "base_uri": "https://localhost:8080/"
        },
        "id": "B-vjtXCwFfWu",
        "outputId": "3909e31e-d017-4912-90ec-a463b66ad5c2"
      },
      "execution_count": 22,
      "outputs": [
        {
          "output_type": "stream",
          "name": "stdout",
          "text": [
            "array('f', [1.0, 2.0, 3.0, 4.0, 5.0, 6.0, 7.0, 8.0, 9.0, 10.0])\n"
          ]
        }
      ]
    },
    {
      "cell_type": "markdown",
      "source": [
        "Insert an element: 11 to the first index of the array a"
      ],
      "metadata": {
        "id": "dBnUlJSxHojZ"
      }
    },
    {
      "cell_type": "code",
      "source": [
        "a.insert(0,11)\n",
        "print(a)\n",
        "b.insert(-1,11)\n",
        "print(b)\n",
        "b[-1]=12\n",
        "print(b)"
      ],
      "metadata": {
        "colab": {
          "base_uri": "https://localhost:8080/"
        },
        "id": "oRUL96l_Hu0r",
        "outputId": "0da5cdbf-604c-4e63-b5c7-9d3b62649307"
      },
      "execution_count": 23,
      "outputs": [
        {
          "output_type": "stream",
          "name": "stdout",
          "text": [
            "array('f', [11.0, 1.0, 2.0, 3.0, 4.0, 5.0, 6.0, 7.0, 8.0, 9.0, 10.0])\n",
            "array('f', [1.5, 2.5, 3.5, 4.5, 5.5, 11.0, 11.0, 11.0, 11.0, 11.0, 12.0])\n",
            "array('f', [1.5, 2.5, 3.5, 4.5, 5.5, 11.0, 11.0, 11.0, 11.0, 11.0, 12.0])\n"
          ]
        }
      ]
    }
  ]
}