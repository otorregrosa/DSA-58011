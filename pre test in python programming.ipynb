{
 "cells": [
  {
   "cell_type": "code",
   "execution_count": 19,
   "id": "14d625d2",
   "metadata": {},
   "outputs": [],
   "source": []
  },
  {
   "cell_type": "code",
   "execution_count": 25,
   "id": "69db8317",
   "metadata": {},
   "outputs": [
    {
     "data": {
      "text/plain": [
       "'has edges and vertices'"
      ]
     },
     "execution_count": 25,
     "metadata": {},
     "output_type": "execute_result"
    }
   ],
   "source": [
    "class Shape:\n",
    "    def triangle(self):\n",
    "        return \"4 sides are equal\"\n",
    "    def rectangle(self):\n",
    "        return \"2 sides are equal\"\n",
    "    \n",
    "class Polygon(Shape):\n",
    "    def triangle(self):\n",
    "        return \"has edges and vertices\"\n",
    "    \n",
    "object = Polygon()\n",
    "object.triangle()"
   ]
  },
  {
   "cell_type": "code",
   "execution_count": 22,
   "id": "dea61be5",
   "metadata": {},
   "outputs": [
    {
     "name": "stdout",
     "output_type": "stream",
     "text": [
      "Missy\n",
      "Lucky\n"
     ]
    }
   ],
   "source": [
    "class Cat:\n",
    "    def __init__(self, name):\n",
    "        \n",
    "        self.name = name\n",
    "        \n",
    "missy = Cat('Missy')\n",
    "lucky = Cat('Lucky')\n",
    "\n",
    "print(missy.name)\n",
    "print(lucky.name)"
   ]
  },
  {
   "cell_type": "code",
   "execution_count": 24,
   "id": "f3beb2f2",
   "metadata": {},
   "outputs": [
    {
     "name": "stdout",
     "output_type": "stream",
     "text": [
      "Ana\n",
      "39\n"
     ]
    }
   ],
   "source": [
    "class Person:\n",
    "    def __init__(self, name, age):\n",
    "        self.name = name\n",
    "        self.age = age\n",
    "        \n",
    "person = Person(\"Ana\",39)\n",
    "print(person.name)\n",
    "print(person.age)"
   ]
  },
  {
   "cell_type": "code",
   "execution_count": 26,
   "id": "1c0c5ca4",
   "metadata": {},
   "outputs": [
    {
     "name": "stdout",
     "output_type": "stream",
     "text": [
      "21\n"
     ]
    }
   ],
   "source": [
    "class Rectangle:\n",
    "    def __init__(self, length, width):\n",
    "        self.length = length\n",
    "        self.width = width\n",
    "    def Area(self):\n",
    "        print(self.length * self.width)\n",
    "rect = Rectangle(7, 3)\n",
    "rect.Area()"
   ]
  },
  {
   "cell_type": "code",
   "execution_count": null,
   "id": "205efed4",
   "metadata": {},
   "outputs": [],
   "source": []
  }
 ],
 "metadata": {
  "kernelspec": {
   "display_name": "Python 3 (ipykernel)",
   "language": "python",
   "name": "python3"
  },
  "language_info": {
   "codemirror_mode": {
    "name": "ipython",
    "version": 3
   },
   "file_extension": ".py",
   "mimetype": "text/x-python",
   "name": "python",
   "nbconvert_exporter": "python",
   "pygments_lexer": "ipython3",
   "version": "3.9.12"
  }
 },
 "nbformat": 4,
 "nbformat_minor": 5
}
