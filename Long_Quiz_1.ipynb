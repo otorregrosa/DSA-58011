{
  "nbformat": 4,
  "nbformat_minor": 0,
  "metadata": {
    "colab": {
      "provenance": [],
      "authorship_tag": "ABX9TyPAmg5Yw/OHXOGJrZ4b4YYi",
      "include_colab_link": true
    },
    "kernelspec": {
      "name": "python3",
      "display_name": "Python 3"
    },
    "language_info": {
      "name": "python"
    }
  },
  "cells": [
    {
      "cell_type": "markdown",
      "metadata": {
        "id": "view-in-github",
        "colab_type": "text"
      },
      "source": [
        "<a href=\"https://colab.research.google.com/github/otorregrosa/DSA-58011/blob/main/Long_Quiz_1.ipynb\" target=\"_parent\"><img src=\"https://colab.research.google.com/assets/colab-badge.svg\" alt=\"Open In Colab\"/></a>"
      ]
    },
    {
      "cell_type": "code",
      "execution_count": 7,
      "metadata": {
        "colab": {
          "base_uri": "https://localhost:8080/"
        },
        "id": "OI8UHKptRsWc",
        "outputId": "0819ddae-a225-418a-f166-3a41f345174e"
      },
      "outputs": [
        {
          "output_type": "stream",
          "name": "stdout",
          "text": [
            "['A', 'S', 'O', 'R', 'G', 'E', 'R', 'R', 'O', 'T', ' ', 'O', 'L', 'L', 'E', 'H', 'T', 'O']\n"
          ]
        }
      ],
      "source": [
        "name = [\"O\",\"T\",\"H\",\"E\",\"L\",\"L\",\"O\",\" \",\"T\",\"O\",\"R\",\"R\",\"E\",\"G\",\"R\",\"O\",\"S\",\"A\"]\n",
        "name.reverse()\n",
        "print(name)"
      ]
    }
  ]
}