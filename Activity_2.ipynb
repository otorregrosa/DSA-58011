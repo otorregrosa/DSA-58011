{
  "nbformat": 4,
  "nbformat_minor": 0,
  "metadata": {
    "colab": {
      "provenance": [],
      "authorship_tag": "ABX9TyM9Bm6b/QMIHkYKRJYecKhl",
      "include_colab_link": true
    },
    "kernelspec": {
      "name": "python3",
      "display_name": "Python 3"
    },
    "language_info": {
      "name": "python"
    }
  },
  "cells": [
    {
      "cell_type": "markdown",
      "metadata": {
        "id": "view-in-github",
        "colab_type": "text"
      },
      "source": [
        "<a href=\"https://colab.research.google.com/github/otorregrosa/DSA-58011/blob/main/Activity_2.ipynb\" target=\"_parent\"><img src=\"https://colab.research.google.com/assets/colab-badge.svg\" alt=\"Open In Colab\"/></a>"
      ]
    },
    {
      "cell_type": "code",
      "execution_count": null,
      "metadata": {
        "id": "A8XsbhQdgKyE"
      },
      "outputs": [],
      "source": []
    },
    {
      "cell_type": "code",
      "source": [
        "class Node:\n",
        "\n",
        "    def __init__(self, data=None):\n",
        "        self.data = data\n",
        "        self.next = None\n",
        "class singly_linked_list:\n",
        "    def __init__(self):\n",
        "\n",
        "        self.tail = None\n",
        "        self.head = None\n",
        "        self.count = 0\n",
        "\t\n",
        "    def append_item(self, data):\n",
        "\n",
        "        node = Node(data)\n",
        "        if self.head:\n",
        "            self.head.next = node\n",
        "            self.head = node\n",
        "        else:\n",
        "            self.tail = node\n",
        "            self.head = node\n",
        "        self.count += 1\n",
        "    \n",
        "    def __getitem__(self, index):\n",
        "        if index > self.count - 1:\n",
        "            return \"Index out of range\"\n",
        "        current_val = self.tail\n",
        "        for n in range(index):\n",
        "            current_val = current_val.next\n",
        "        return current_val.data\n",
        "\n",
        "items = singly_linked_list()\n",
        "items.append_item('A')\n",
        "items.append_item('B')\n",
        "items.append_item('C')\n",
        "items.append_item('D')\n",
        "items.append_item('E') \n",
        "items.append_item('F')\n",
        "items.append_item('G')\n",
        "items.append_item('H')\n",
        "items.append_item('I')\n",
        "items.append_item('J') \n",
        "items.append_item('K')\n",
        "items.append_item('L')\n",
        "items.append_item('M')\n",
        "items.append_item('N')\n",
        "items.append_item('O') \n",
        "items.append_item('P')\n",
        "items.append_item('Q')\n",
        "items.append_item('R')\n",
        "items.append_item('S')\n",
        "items.append_item('T') \n",
        "items.append_item('U')\n",
        "items.append_item('V')\n",
        "items.append_item('W')\n",
        "items.append_item('X')\n",
        "items.append_item('Y') \n",
        "items.append_item('Z')\n",
        "\n",
        "print(\"Vowels:\")\n",
        "print(items[0])\n",
        "print(items[4])\n",
        "print(items[8])\n",
        "print(items[14])\n",
        "print(items[20])\n",
        "print(\"\\nhead.data: \",items.tail.data)\n",
        "print(\"tail.data: \",items.head.data)"
      ],
      "metadata": {
        "colab": {
          "base_uri": "https://localhost:8080/"
        },
        "id": "Pr9RDGThf9rY",
        "outputId": "afc8bcee-52c3-4cdd-9836-bedee3544139"
      },
      "execution_count": 11,
      "outputs": [
        {
          "output_type": "stream",
          "name": "stdout",
          "text": [
            "Vowels:\n",
            "A\n",
            "E\n",
            "I\n",
            "O\n",
            "U\n",
            "\n",
            "head.data:  A\n",
            "tail.data:  Z\n"
          ]
        }
      ]
    }
  ]
}