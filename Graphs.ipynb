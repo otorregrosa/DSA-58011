{
  "nbformat": 4,
  "nbformat_minor": 0,
  "metadata": {
    "colab": {
      "provenance": [],
      "authorship_tag": "ABX9TyM16pBoHMPmzosyJwQY3OiU",
      "include_colab_link": true
    },
    "kernelspec": {
      "name": "python3",
      "display_name": "Python 3"
    },
    "language_info": {
      "name": "python"
    }
  },
  "cells": [
    {
      "cell_type": "markdown",
      "metadata": {
        "id": "view-in-github",
        "colab_type": "text"
      },
      "source": [
        "<a href=\"https://colab.research.google.com/github/otorregrosa/DSA-58011/blob/main/Graphs.ipynb\" target=\"_parent\"><img src=\"https://colab.research.google.com/assets/colab-badge.svg\" alt=\"Open In Colab\"/></a>"
      ]
    },
    {
      "cell_type": "markdown",
      "source": [
        "Graph can be a tree or vice versa\n"
      ],
      "metadata": {
        "id": "kl3FXCyeZHMV"
      }
    },
    {
      "cell_type": "code",
      "execution_count": 2,
      "metadata": {
        "colab": {
          "base_uri": "https://localhost:8080/"
        },
        "id": "_YvATeT1YJwR",
        "outputId": "0d1b0694-0ac8-4f9c-bdcc-0c61f258ea1e"
      },
      "outputs": [
        {
          "output_type": "stream",
          "name": "stdout",
          "text": [
            "{'a': ['b', 'c'], 'b': ['a', 'd'], 'c': ['a', 'd'], 'd': ['b', 'c', 'e'], 'e': ['d']}\n"
          ]
        }
      ],
      "source": [
        "#Data Elements using Dictionaries to Implement Graphs\n",
        "graph = {\n",
        "    'a': ['b', 'c'],\n",
        "    'b': ['a', 'd'],\n",
        "    'c': ['a', 'd'],\n",
        "    'd': ['b', 'c', 'e'],\n",
        "    'e': ['d'],\n",
        "}\n",
        "print(graph)"
      ]
    },
    {
      "cell_type": "code",
      "source": [
        "graph19 = {\n",
        "    '1': ['2', '3', '4', '5'],\n",
        "    '2': ['1', '3', '4', '5'],\n",
        "    '3': ['1', '2', '4', '5'],\n",
        "    '4': ['1', '2', '3', '5'],\n",
        "    '5': ['1', '2', '3', '4'],\n",
        "}\n",
        "print(graph19)"
      ],
      "metadata": {
        "colab": {
          "base_uri": "https://localhost:8080/"
        },
        "id": "sCBN005peeLN",
        "outputId": "36720ad0-15a2-4631-c6ec-36c73b4be52f"
      },
      "execution_count": 3,
      "outputs": [
        {
          "output_type": "stream",
          "name": "stdout",
          "text": [
            "{'1': ['2', '3', '4', '5'], '2': ['1', '3', '4', '5'], '3': ['1', '2', '4', '5'], '4': ['1', '2', '3', '5'], '5': ['1', '2', '3', '4']}\n"
          ]
        }
      ]
    }
  ]
}